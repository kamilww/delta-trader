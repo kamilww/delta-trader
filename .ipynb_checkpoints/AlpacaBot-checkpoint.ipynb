{
 "cells": [
  {
   "cell_type": "code",
   "execution_count": 5,
   "metadata": {},
   "outputs": [],
   "source": [
    "# Initial imports\n",
    "import os\n",
    "import requests\n",
    "import pandas as pd\n",
    "import requests\n",
    "import json\n",
    "from dotenv import load_dotenv\n",
    "import alpaca_trade_api as tradeapi\n",
    "import schedule, time\n",
    "from pandas.tseries.offsets import BMonthEnd\n",
    "import numpy as np\n",
    "from datetime import datetime"
   ]
  },
  {
   "cell_type": "code",
   "execution_count": 6,
   "metadata": {},
   "outputs": [
    {
     "data": {
      "text/plain": [
       "True"
      ]
     },
     "execution_count": 6,
     "metadata": {},
     "output_type": "execute_result"
    }
   ],
   "source": [
    "# Load .env enviroment variables\n",
    "load_dotenv(\"keys.env\")"
   ]
  },
  {
   "cell_type": "code",
   "execution_count": 7,
   "metadata": {},
   "outputs": [],
   "source": [
    "# Set Alpaca API key and secret\n",
    "alpaca_api_key = os.getenv(\"ALPACA_API_KEY\")\n",
    "alpaca_secret_key = os.getenv(\"ALPACA_SECRET_KEY\")\n",
    "\n",
    "# Create the Alpaca API object\n",
    "api = tradeapi.REST(\n",
    "    alpaca_api_key,\n",
    "    alpaca_secret_key,\n",
    "    \"https://paper-api.alpaca.markets\"\n",
    ")"
   ]
  },
  {
   "cell_type": "code",
   "execution_count": 8,
   "metadata": {},
   "outputs": [],
   "source": [
    "def exec_trade():\n",
    "    now = datetime.now().date()\n",
    "    account = api.get_account()\n",
    "    cash = int(float(account.cash))\n",
    "    offset = BMonthEnd()\n",
    "    last_day=offset.rollforward(now)\n",
    "    barset = api.get_barset('SPY', 'day', limit=200)\n",
    "    SPY_closes = [bar.c for bar in barset[\"SPY\"][:]]\n",
    "    SMA = np.mean(SPY_closes)\n",
    "    current_price = int(SPY_closes[-1])\n",
    "    positions = api.list_positions()\n",
    "    portfolio = [position.symbol for position in positions]\n",
    "    open_position = False\n",
    "    spy_qty = 0\n",
    "    if [position for position in api.list_positions() if position.symbol==\"SPY\"]:\n",
    "        spy_qty= int([position.qty for position in api.list_positions() if position.symbol==\"SPY\"][0])\n",
    "        \n",
    "    if \"SPY\" in portfolio:\n",
    "        open_position=True\n",
    "    if(now.date()==last_day):\n",
    "        if((current_price > SMA) and (open_position)):\n",
    "            api.submit_order(symbol=\"SPY\", qty = int(cash/current_price), type=\"market\", side=\"buy\", time_in_force=\"gtc\")\n",
    "        elif((SMA>current_price) and (not open_position)):\n",
    "            api.submit_order(symbol=\"SPY\", qty=spy_qty, type=\"market\", side=\"sell\", time_in_force=\"gtc\")\n",
    "    "
   ]
  },
  {
   "cell_type": "code",
   "execution_count": 10,
   "metadata": {},
   "outputs": [
    {
     "data": {
      "text/plain": [
       "Every 1 day at 14:20:00 do exec_trade() (last run: [never], next run: 2021-07-02 14:20:00)"
      ]
     },
     "execution_count": 10,
     "metadata": {},
     "output_type": "execute_result"
    }
   ],
   "source": [
    "def running_print():\n",
    "    print(\"Hello your bot is running\")\n",
    "\n",
    "schedule.every(10).seconds.do(running_print)\n",
    "schedule.every().day.at(\"14:20\").do(exec_trade)"
   ]
  },
  {
   "cell_type": "code",
   "execution_count": null,
   "metadata": {},
   "outputs": [],
   "source": [
    "while True:\n",
    "    schedule.run_pending()\n",
    "    time.sleep(1)"
   ]
  },
  {
   "cell_type": "code",
   "execution_count": null,
   "metadata": {},
   "outputs": [],
   "source": []
  },
  {
   "cell_type": "code",
   "execution_count": null,
   "metadata": {},
   "outputs": [],
   "source": []
  },
  {
   "cell_type": "code",
   "execution_count": null,
   "metadata": {},
   "outputs": [],
   "source": []
  }
 ],
 "metadata": {
  "kernelspec": {
   "display_name": "Python 3",
   "language": "python",
   "name": "python3"
  },
  "language_info": {
   "codemirror_mode": {
    "name": "ipython",
    "version": 3
   },
   "file_extension": ".py",
   "mimetype": "text/x-python",
   "name": "python",
   "nbconvert_exporter": "python",
   "pygments_lexer": "ipython3",
   "version": "3.7.9"
  }
 },
 "nbformat": 4,
 "nbformat_minor": 5
}
