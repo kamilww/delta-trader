{
 "cells": [
  {
   "cell_type": "code",
   "execution_count": 2,
   "metadata": {},
   "outputs": [],
   "source": [
    "import json\n",
    "import os\n",
    "from dotenv import load_dotenv\n",
    "import alpaca_trade_api as tradeapi\n",
    "import asyncio\n",
    "import websocket"
   ]
  },
  {
   "cell_type": "code",
   "execution_count": 3,
   "metadata": {},
   "outputs": [
    {
     "data": {
      "text/plain": [
       "True"
      ]
     },
     "execution_count": 3,
     "metadata": {},
     "output_type": "execute_result"
    }
   ],
   "source": [
    "load_dotenv('/Users/kamilwojnowski/Fintech/keys.env')"
   ]
  },
  {
   "cell_type": "code",
   "execution_count": 4,
   "metadata": {},
   "outputs": [],
   "source": [
    "# Set Alpaca API key and secret\n",
    "alpaca_api_key = os.getenv(\"ALPACA_API_KEY\")\n",
    "alpaca_secret_key = os.getenv(\"ALPACA_SECRET_KEY\")\n",
    "base_url = 'wss://paper-api.alpaca.markets/stream'"
   ]
  },
  {
   "cell_type": "code",
   "execution_count": 5,
   "metadata": {},
   "outputs": [
    {
     "name": "stdout",
     "output_type": "stream",
     "text": [
      "open\n",
      "listening...\n",
      "b'{\"stream\":\"authorization\",\"data\":{\"action\":\"authenticate\",\"status\":\"authorized\"}}'\n",
      "b'{\"stream\":\"listening\",\"data\":{\"streams\":[\"trade_updates\"]}}'\n"
     ]
    }
   ],
   "source": [
    "def on_open(ws):\n",
    "    auth_data = {\n",
    "        \"action\": \"authenticate\",\n",
    "        \"data\": {\n",
    "            \"key_id\": alpaca_api_key, \n",
    "            \"secret_key\": alpaca_secret_key\n",
    "        }\n",
    "    }\n",
    "    ws.send(json.dumps(auth_data))\n",
    "    print('open')\n",
    "    \n",
    "    listen_message = {\n",
    "        \"action\": \"listen\", \n",
    "        \"data\": {\n",
    "            \"streams\": [\"trade_updates\"]\n",
    "        }\n",
    "    }\n",
    "    ws.send(json.dumps(listen_message))\n",
    "    print(\"listening...\")\n",
    "\n",
    "def on_message(ws, message):\n",
    "    print(message)\n",
    "\n",
    "\n",
    "ws = websocket.WebSocketApp(base_url, on_open=on_open, on_message=on_message)\n",
    "ws.run_forever()"
   ]
  },
  {
   "cell_type": "code",
   "execution_count": null,
   "metadata": {},
   "outputs": [],
   "source": []
  }
 ],
 "metadata": {
  "kernelspec": {
   "display_name": "Python 3",
   "language": "python",
   "name": "python3"
  },
  "language_info": {
   "codemirror_mode": {
    "name": "ipython",
    "version": 3
   },
   "file_extension": ".py",
   "mimetype": "text/x-python",
   "name": "python",
   "nbconvert_exporter": "python",
   "pygments_lexer": "ipython3",
   "version": "3.7.7"
  }
 },
 "nbformat": 4,
 "nbformat_minor": 4
}
