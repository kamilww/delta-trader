{
 "cells": [
  {
   "cell_type": "code",
   "execution_count": 1,
   "metadata": {},
   "outputs": [],
   "source": [
    "import json\n",
    "import os\n",
    "from dotenv import load_dotenv\n",
    "import alpaca_trade_api as tradeapi\n",
    "import asyncio\n",
    "import websocket\n",
    "from pprintpp import pprint as pp"
   ]
  },
  {
   "cell_type": "code",
   "execution_count": 2,
   "metadata": {},
   "outputs": [
    {
     "data": {
      "text/plain": [
       "True"
      ]
     },
     "execution_count": 2,
     "metadata": {},
     "output_type": "execute_result"
    }
   ],
   "source": [
    "load_dotenv('/Users/kamilwojnowski/Fintech/keys.env')"
   ]
  },
  {
   "cell_type": "code",
   "execution_count": 3,
   "metadata": {},
   "outputs": [],
   "source": [
    "# Set Alpaca API key and secret\n",
    "alpaca_api_key = os.getenv(\"ALPACA_API_KEY\")\n",
    "alpaca_secret_key = os.getenv(\"ALPACA_SECRET_KEY\")\n",
    "base_url = 'wss://paper-api.alpaca.markets/stream'\n",
    "\n",
    "alpaca_stream_output = []"
   ]
  },
  {
   "cell_type": "code",
   "execution_count": 4,
   "metadata": {},
   "outputs": [
    {
     "name": "stdout",
     "output_type": "stream",
     "text": [
      "open\n",
      "listening...\n",
      "{'data': {'action': 'authenticate', 'status': 'authorized'}, 'stream': 'authorization'}\n",
      "{'data': {'streams': ['trade_updates']}, 'stream': 'listening'}\n",
      "\n",
      "connection closed\n"
     ]
    }
   ],
   "source": [
    "# Authentication and listener setup function\n",
    "def on_open(ws):\n",
    "    auth_data = {\n",
    "        \"action\": \"authenticate\",\n",
    "        \"data\": {\n",
    "            \"key_id\": alpaca_api_key, \n",
    "            \"secret_key\": alpaca_secret_key\n",
    "        }\n",
    "    }\n",
    "    ws.send(json.dumps(auth_data))\n",
    "    print('open')\n",
    "\n",
    "    listen_message = {\n",
    "            \"action\": \"listen\", \n",
    "            \"data\": {\n",
    "                \"streams\": [\"trade_updates\"]\n",
    "            }\n",
    "        }\n",
    "    ws.send(json.dumps(listen_message))\n",
    "    print(\"listening...\")\n",
    "    \n",
    "# Receives and prints incoming messages from server\n",
    "def on_message(ws, message_server):\n",
    "    json_message = json.loads(message_server)\n",
    "    pp(json_message)\n",
    "\n",
    "def on_cont_message(ws, message_server, continueflag=0):\n",
    "    json_message = json.loads(message_server)\n",
    "    pp(json_message)\n",
    "    alpaca_stream_output.append(json_message)\n",
    "    \n",
    "    \n",
    "# Error handler\n",
    "def on_error(ws, error):\n",
    "    print(error)\n",
    "\n",
    "def on_close(ws):\n",
    "    print(\"connection closed\")\n",
    "\n",
    "# websocket-client library function\n",
    "ws = websocket.WebSocketApp(base_url, on_open=on_open, on_message=on_message, on_cont_message=on_cont_message, on_error=on_error, on_close=on_close)\n",
    "ws.run_forever()\n"
   ]
  },
  {
   "cell_type": "code",
   "execution_count": 5,
   "metadata": {},
   "outputs": [
    {
     "data": {
      "text/plain": [
       "[{'stream': 'authorization',\n",
       "  'data': {'action': 'authenticate', 'status': 'authorized'}},\n",
       " {'stream': 'listening', 'data': {'streams': ['trade_updates']}}]"
      ]
     },
     "execution_count": 5,
     "metadata": {},
     "output_type": "execute_result"
    }
   ],
   "source": [
    "alpaca_stream_output"
   ]
  },
  {
   "cell_type": "code",
   "execution_count": null,
   "metadata": {},
   "outputs": [],
   "source": []
  }
 ],
 "metadata": {
  "kernelspec": {
   "display_name": "Python 3",
   "language": "python",
   "name": "python3"
  },
  "language_info": {
   "codemirror_mode": {
    "name": "ipython",
    "version": 3
   },
   "file_extension": ".py",
   "mimetype": "text/x-python",
   "name": "python",
   "nbconvert_exporter": "python",
   "pygments_lexer": "ipython3",
   "version": "3.7.7"
  }
 },
 "nbformat": 4,
 "nbformat_minor": 4
}
