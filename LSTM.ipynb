{
 "cells": [
  {
   "cell_type": "code",
   "execution_count": 29,
   "metadata": {},
   "outputs": [],
   "source": [
    "import yfinance as yf\n",
    "import pandas as pd\n",
    "import numpy as np"
   ]
  },
  {
   "cell_type": "code",
   "execution_count": 52,
   "metadata": {},
   "outputs": [
    {
     "name": "stdout",
     "output_type": "stream",
     "text": [
      "[*********************100%***********************]  1 of 1 completed\n"
     ]
    }
   ],
   "source": [
    "data = yf.download(\"SPY\", start=\"2010-05-01\", end=\"2020-10-04\")\n",
    "data.to_csv(\"spy.csv\")"
   ]
  },
  {
   "cell_type": "code",
   "execution_count": 53,
   "metadata": {},
   "outputs": [],
   "source": [
    "spy_df = pd.read_csv(\"spy.csv\", index_col = \"Date\", infer_datetime_format=True, parse_dates=True)\n"
   ]
  },
  {
   "cell_type": "code",
   "execution_count": 54,
   "metadata": {},
   "outputs": [],
   "source": [
    "adj_close = spy_df[\"Adj Close\"]\n",
    "returns = adj_close.pct_change().dropna()\n",
    "returns_neg = returns.loc[returns<0]\n",
    "df = pd.concat([returns, returns_neg], axis=\"columns\")\n",
    "df = df.replace(np.NaN, value=0)\n",
    "df.columns = [\"Returns\", \"Downside Returns\"]\n",
    "df[\"Downside Deviation\"] = df[\"Downside Returns\"].rolling(30).std()\n",
    "df = df.dropna()\n",
    "df = df.drop(columns=\"Downside Returns\")\n",
    "df = df[\"Returns\"]"
   ]
  },
  {
   "cell_type": "code",
   "execution_count": 55,
   "metadata": {},
   "outputs": [],
   "source": [
    "def window_data(df, window, feature_col_number, target_col_number):\n",
    "    \"\"\"\n",
    "    This function accepts the column number for the features (X) and the target (y).\n",
    "    It chunks the data up with a rolling window of Xt - window to predict Xt.\n",
    "    It returns two numpy arrays of X and y.\n",
    "    \"\"\"\n",
    "    X = []\n",
    "    y = []\n",
    "    for i in range(len(df) - window):\n",
    "        features = df.iloc[i : (i + window), feature_col_number]\n",
    "        target = df.iloc[(i + window), target_col_number]\n",
    "        X.append(features)\n",
    "        y.append(target)\n",
    "    return np.array(X), np.array(y).reshape(-1, 1)\n",
    "\n",
    "X, y = window_data(pd.DataFrame(adj_close), 5, 0, 0)"
   ]
  },
  {
   "cell_type": "code",
   "execution_count": 56,
   "metadata": {},
   "outputs": [],
   "source": [
    "split = int(0.7 * len(X))\n",
    "X_train = X[: split]\n",
    "X_test = X[split:]\n",
    "y_train = y[: split]\n",
    "y_test = y[split:]"
   ]
  },
  {
   "cell_type": "code",
   "execution_count": 57,
   "metadata": {},
   "outputs": [],
   "source": [
    "from sklearn.preprocessing import MinMaxScaler\n",
    "\n",
    "scaler = MinMaxScaler()\n",
    "scaler.fit(X)\n",
    "X_train = scaler.transform(X_train)\n",
    "X_test = scaler.transform(X_test)\n",
    "scaler.fit(y)\n",
    "y_train = scaler.transform(y_train)\n",
    "y_test = scaler.transform(y_test)"
   ]
  },
  {
   "cell_type": "code",
   "execution_count": 58,
   "metadata": {},
   "outputs": [
    {
     "name": "stdout",
     "output_type": "stream",
     "text": [
      "X_train sample values:\n",
      "[[[0.05243124]\n",
      "  [0.04403102]\n",
      "  [0.04195314]\n",
      "  [0.03043622]\n",
      "  [0.02544945]]\n",
      "\n",
      " [[0.04403102]\n",
      "  [0.04195314]\n",
      "  [0.03043622]\n",
      "  [0.02544945]\n",
      "  [0.03999409]]\n",
      "\n",
      " [[0.04195314]\n",
      "  [0.03043622]\n",
      "  [0.02544945]\n",
      "  [0.03999409]\n",
      "  [0.03901453]]\n",
      "\n",
      " [[0.03043622]\n",
      "  [0.02544945]\n",
      "  [0.03999409]\n",
      "  [0.03901453]\n",
      "  [0.04382311]]\n",
      "\n",
      " [[0.02544945]\n",
      "  [0.03999409]\n",
      "  [0.03901453]\n",
      "  [0.04382311]\n",
      "  [0.03948947]]] \n",
      "\n",
      "X_test sample values:\n",
      "[[[0.53561074]\n",
      "  [0.54394196]\n",
      "  [0.5438387 ]\n",
      "  [0.54531889]\n",
      "  [0.5320649 ]]\n",
      "\n",
      " [[0.54394196]\n",
      "  [0.5438387 ]\n",
      "  [0.54531889]\n",
      "  [0.5320649 ]\n",
      "  [0.53075683]]\n",
      "\n",
      " [[0.5438387 ]\n",
      "  [0.54531889]\n",
      "  [0.5320649 ]\n",
      "  [0.53075683]\n",
      "  [0.53141086]]\n",
      "\n",
      " [[0.54531889]\n",
      "  [0.5320649 ]\n",
      "  [0.53075683]\n",
      "  [0.53141086]\n",
      "  [0.54015502]]\n",
      "\n",
      " [[0.5320649 ]\n",
      "  [0.53075683]\n",
      "  [0.53141086]\n",
      "  [0.54015502]\n",
      "  [0.5371255 ]]]\n"
     ]
    }
   ],
   "source": [
    "X_train = X_train.reshape((X_train.shape[0], X_train.shape[1], 1))\n",
    "X_test = X_test.reshape((X_test.shape[0], X_test.shape[1], 1))\n",
    "print (f\"X_train sample values:\\n{X_train[:5]} \\n\")\n",
    "print (f\"X_test sample values:\\n{X_test[:5]}\") "
   ]
  },
  {
   "cell_type": "code",
   "execution_count": 59,
   "metadata": {},
   "outputs": [],
   "source": [
    "from tensorflow.keras.models import Sequential\n",
    "from tensorflow.keras.layers import LSTM, Dense, Dropout "
   ]
  },
  {
   "cell_type": "code",
   "execution_count": 63,
   "metadata": {},
   "outputs": [],
   "source": [
    "model = Sequential()\n",
    "\n",
    "number_units = 5\n",
    "dropout_fraction = 0.2\n",
    "\n",
    "# Layer 1\n",
    "model.add(LSTM(\n",
    "    units=number_units,\n",
    "    return_sequences=False,\n",
    "    input_shape=(X_train.shape[1], 1))\n",
    "    )\n",
    "model.add(Dropout(dropout_fraction))\n",
    "# Layer 2\n",
    "# model.add(LSTM(units=number_units, return_sequences=True))\n",
    "# model.add(Dropout(dropout_fraction))\n",
    "# Layer 3\n",
    "# model.add(LSTM(units=number_units))\n",
    "# model.add(Dropout(dropout_fraction))\n",
    "# Output layer\n",
    "model.add(Dense(1)) "
   ]
  },
  {
   "cell_type": "code",
   "execution_count": 64,
   "metadata": {},
   "outputs": [
    {
     "name": "stdout",
     "output_type": "stream",
     "text": [
      "Model: \"sequential_2\"\n",
      "_________________________________________________________________\n",
      "Layer (type)                 Output Shape              Param #   \n",
      "=================================================================\n",
      "lstm_6 (LSTM)                (None, 5)                 140       \n",
      "_________________________________________________________________\n",
      "dropout_6 (Dropout)          (None, 5)                 0         \n",
      "_________________________________________________________________\n",
      "dense_2 (Dense)              (None, 1)                 6         \n",
      "=================================================================\n",
      "Total params: 146\n",
      "Trainable params: 146\n",
      "Non-trainable params: 0\n",
      "_________________________________________________________________\n"
     ]
    }
   ],
   "source": [
    "model.compile(optimizer=\"adam\", loss=\"mean_squared_error\") \n",
    "model.summary() "
   ]
  },
  {
   "cell_type": "code",
   "execution_count": 65,
   "metadata": {},
   "outputs": [
    {
     "name": "stdout",
     "output_type": "stream",
     "text": [
      "Epoch 1/10\n",
      "1833/1833 [==============================] - 14s 5ms/step - loss: 4.1110e-04\n",
      "Epoch 2/10\n",
      "1833/1833 [==============================] - 7s 4ms/step - loss: 0.0028\n",
      "Epoch 3/10\n",
      "1833/1833 [==============================] - 8s 4ms/step - loss: 0.0020\n",
      "Epoch 4/10\n",
      "1833/1833 [==============================] - 9s 5ms/step - loss: 0.0015\n",
      "Epoch 5/10\n",
      "1833/1833 [==============================] - 9s 5ms/step - loss: 0.0012\n",
      "Epoch 6/10\n",
      "1833/1833 [==============================] - 8s 5ms/step - loss: 0.0011\n",
      "Epoch 7/10\n",
      "1833/1833 [==============================] - 8s 4ms/step - loss: 0.0012\n",
      "Epoch 8/10\n",
      "1833/1833 [==============================] - 9s 5ms/step - loss: 0.0012\n",
      "Epoch 9/10\n",
      "1833/1833 [==============================] - 9s 5ms/step - loss: 0.0012\n",
      "Epoch 10/10\n",
      "1833/1833 [==============================] - 9s 5ms/step - loss: 0.0012\n"
     ]
    },
    {
     "data": {
      "text/plain": [
       "<tensorflow.python.keras.callbacks.History at 0x1a41c5fa3c8>"
      ]
     },
     "execution_count": 65,
     "metadata": {},
     "output_type": "execute_result"
    }
   ],
   "source": [
    "model.fit(X_train, y_train, epochs=10, shuffle=False, batch_size=1, verbose=1) "
   ]
  },
  {
   "cell_type": "code",
   "execution_count": 66,
   "metadata": {},
   "outputs": [
    {
     "name": "stdout",
     "output_type": "stream",
     "text": [
      "25/25 [==============================] - 1s 3ms/step - loss: 0.0154\n"
     ]
    },
    {
     "data": {
      "text/plain": [
       "0.015390459448099136"
      ]
     },
     "execution_count": 66,
     "metadata": {},
     "output_type": "execute_result"
    }
   ],
   "source": [
    "model.evaluate(X_test, y_test) "
   ]
  },
  {
   "cell_type": "code",
   "execution_count": 67,
   "metadata": {},
   "outputs": [],
   "source": [
    "predicted = model.predict(X_test) \n",
    "predicted_prices = scaler.inverse_transform(predicted)\n",
    "real_prices = scaler.inverse_transform(y_test.reshape(-1, 1)) "
   ]
  },
  {
   "cell_type": "code",
   "execution_count": 69,
   "metadata": {},
   "outputs": [
    {
     "data": {
      "text/html": [
       "<div>\n",
       "<style scoped>\n",
       "    .dataframe tbody tr th:only-of-type {\n",
       "        vertical-align: middle;\n",
       "    }\n",
       "\n",
       "    .dataframe tbody tr th {\n",
       "        vertical-align: top;\n",
       "    }\n",
       "\n",
       "    .dataframe thead th {\n",
       "        text-align: right;\n",
       "    }\n",
       "</style>\n",
       "<table border=\"1\" class=\"dataframe\">\n",
       "  <thead>\n",
       "    <tr style=\"text-align: right;\">\n",
       "      <th></th>\n",
       "      <th>Real</th>\n",
       "      <th>Predicted</th>\n",
       "    </tr>\n",
       "    <tr>\n",
       "      <th>Date</th>\n",
       "      <th></th>\n",
       "      <th></th>\n",
       "    </tr>\n",
       "  </thead>\n",
       "  <tbody>\n",
       "    <tr>\n",
       "      <th>2017-08-18</th>\n",
       "      <td>225.699493</td>\n",
       "      <td>226.817917</td>\n",
       "    </tr>\n",
       "    <tr>\n",
       "      <th>2017-08-21</th>\n",
       "      <td>225.876160</td>\n",
       "      <td>226.276337</td>\n",
       "    </tr>\n",
       "    <tr>\n",
       "      <th>2017-08-22</th>\n",
       "      <td>228.238113</td>\n",
       "      <td>226.024567</td>\n",
       "    </tr>\n",
       "    <tr>\n",
       "      <th>2017-08-23</th>\n",
       "      <td>227.419785</td>\n",
       "      <td>226.483414</td>\n",
       "    </tr>\n",
       "    <tr>\n",
       "      <th>2017-08-24</th>\n",
       "      <td>226.889771</td>\n",
       "      <td>226.608963</td>\n",
       "    </tr>\n",
       "  </tbody>\n",
       "</table>\n",
       "</div>"
      ],
      "text/plain": [
       "                  Real   Predicted\n",
       "Date                              \n",
       "2017-08-18  225.699493  226.817917\n",
       "2017-08-21  225.876160  226.276337\n",
       "2017-08-22  228.238113  226.024567\n",
       "2017-08-23  227.419785  226.483414\n",
       "2017-08-24  226.889771  226.608963"
      ]
     },
     "execution_count": 69,
     "metadata": {},
     "output_type": "execute_result"
    }
   ],
   "source": [
    "stocks = pd.DataFrame({\n",
    "    \"Real\": real_prices.ravel(),\n",
    "    \"Predicted\": predicted_prices.ravel()\n",
    "    }, index = df.index[-len(real_prices): ])\n",
    "stocks.head()"
   ]
  },
  {
   "cell_type": "code",
   "execution_count": 70,
   "metadata": {},
   "outputs": [
    {
     "data": {
      "text/plain": [
       "<AxesSubplot:xlabel='Date'>"
      ]
     },
     "execution_count": 70,
     "metadata": {},
     "output_type": "execute_result"
    },
    {
     "data": {
      "image/png": "[encoded data removed]",
      "text/plain": [
       "<Figure size 432x288 with 1 Axes>"
      ]
     },
     "metadata": {
      "needs_background": "light"
     },
     "output_type": "display_data"
    }
   ],
   "source": [
    "%matplotlib inline\n",
    "stocks.plot()"
   ]
  },
  {
   "cell_type": "code",
   "execution_count": null,
   "metadata": {},
   "outputs": [],
   "source": []
  }
 ],
 "metadata": {
  "kernelspec": {
   "display_name": "Python 3",
   "language": "python",
   "name": "python3"
  },
  "language_info": {
   "codemirror_mode": {
    "name": "ipython",
    "version": 3
   },
   "file_extension": ".py",
   "mimetype": "text/x-python",
   "name": "python",
   "nbconvert_exporter": "python",
   "pygments_lexer": "ipython3",
   "version": "3.7.9"
  }
 },
 "nbformat": 4,
 "nbformat_minor": 4
}
